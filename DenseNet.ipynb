{
  "nbformat": 4,
  "nbformat_minor": 0,
  "metadata": {
    "accelerator": "GPU",
    "colab": {
      "name": "DenseNet.ipynb",
      "provenance": [],
      "collapsed_sections": []
    },
    "kernelspec": {
      "display_name": "Python 3",
      "language": "python",
      "name": "python3"
    },
    "language_info": {
      "codemirror_mode": {
        "name": "ipython",
        "version": 3
      },
      "file_extension": ".py",
      "mimetype": "text/x-python",
      "name": "python",
      "nbconvert_exporter": "python",
      "pygments_lexer": "ipython3",
      "version": "3.7.3"
    }
  },
  "cells": [
    {
      "cell_type": "code",
      "metadata": {
        "colab_type": "code",
        "id": "wVIx_KIigxPV",
        "colab": {}
      },
      "source": [
        "from tensorflow.keras import models, layers\n",
        "from tensorflow.keras.models import Model\n",
        "from tensorflow.keras.layers import BatchNormalization, Activation, Flatten\n",
        "from tensorflow.keras.optimizers import Adam\n",
        "from tensorflow.keras.preprocessing.image import ImageDataGenerator\n",
        "from tensorflow.keras.callbacks import ModelCheckpoint\n",
        "import os\n",
        "import tensorflow as tf"
      ],
      "execution_count": null,
      "outputs": []
    },
    {
      "cell_type": "code",
      "metadata": {
        "colab_type": "code",
        "id": "dsO_yGxcg5D8",
        "colab": {}
      },
      "source": [
        "# Hyperparameters\n",
        "batch_size = 64\n",
        "num_classes = 10\n",
        "epochs = 300\n",
        "l = 6\n",
        "num_filter = 35\n",
        "compression = 1.0"
      ],
      "execution_count": null,
      "outputs": []
    },
    {
      "cell_type": "code",
      "metadata": {
        "colab_type": "code",
        "id": "mB7o3zu1g6eT",
        "colab": {
          "base_uri": "https://localhost:8080/",
          "height": 51
        },
        "outputId": "73738aad-192e-4e4b-935c-0b47aef018d8"
      },
      "source": [
        "# Load CIFAR10 Data\n",
        "(X_train, y_train), (X_test, y_test) = tf.keras.datasets.cifar10.load_data()\n",
        "img_height, img_width, channel = X_train.shape[1],X_train.shape[2],X_train.shape[3]\n",
        "\n",
        "# convert to one hot encoing \n",
        "y_train = tf.keras.utils.to_categorical(y_train, num_classes)\n",
        "y_test = tf.keras.utils.to_categorical(y_test, num_classes) "
      ],
      "execution_count": null,
      "outputs": [
        {
          "output_type": "stream",
          "text": [
            "Downloading data from https://www.cs.toronto.edu/~kriz/cifar-10-python.tar.gz\n",
            "170500096/170498071 [==============================] - 11s 0us/step\n"
          ],
          "name": "stdout"
        }
      ]
    },
    {
      "cell_type": "code",
      "metadata": {
        "colab_type": "code",
        "id": "vGdqS2iUA1sl",
        "colab": {}
      },
      "source": [
        "datagen = ImageDataGenerator(\n",
        "            rotation_range=20,\n",
        "            width_shift_range=0.125,\n",
        "            height_shift_range=0.125,\n",
        "            horizontal_flip=True,\n",
        "            fill_mode='nearest',\n",
        "            zoom_range=0.10)"
      ],
      "execution_count": null,
      "outputs": []
    },
    {
      "cell_type": "code",
      "metadata": {
        "colab_type": "code",
        "id": "3lAk_Mw_5-rn",
        "colab": {
          "base_uri": "https://localhost:8080/",
          "height": 34
        },
        "outputId": "0f0cd48f-584d-4a01-823b-e672ffcfa2a0"
      },
      "source": [
        "X_train.shape"
      ],
      "execution_count": null,
      "outputs": [
        {
          "output_type": "execute_result",
          "data": {
            "text/plain": [
              "(50000, 32, 32, 3)"
            ]
          },
          "metadata": {
            "tags": []
          },
          "execution_count": 5
        }
      ]
    },
    {
      "cell_type": "code",
      "metadata": {
        "colab_type": "code",
        "id": "DVkpgHsc5-rp",
        "colab": {
          "base_uri": "https://localhost:8080/",
          "height": 34
        },
        "outputId": "3ed6133f-a499-43f1-e217-3aabc28b5dff"
      },
      "source": [
        "X_test.shape"
      ],
      "execution_count": null,
      "outputs": [
        {
          "output_type": "execute_result",
          "data": {
            "text/plain": [
              "(10000, 32, 32, 3)"
            ]
          },
          "metadata": {
            "tags": []
          },
          "execution_count": 6
        }
      ]
    },
    {
      "cell_type": "code",
      "metadata": {
        "colab_type": "code",
        "id": "ee-sge5Kg7vr",
        "colab": {}
      },
      "source": [
        "# Dense Block\n",
        "def denseblock(input, num_filter = 12):\n",
        "    global compression\n",
        "    temp = input\n",
        "    for _ in range(l): \n",
        "        BatchNorm = layers.BatchNormalization()(temp)\n",
        "        relu = layers.Activation('relu')(BatchNorm)\n",
        "        Conv2D_3_3 = layers.Conv2D(int(num_filter*compression), (3,3), use_bias=False ,padding='same')(relu)\n",
        "        concat = layers.Concatenate(axis=-1)([temp,Conv2D_3_3])\n",
        "        \n",
        "        temp = concat\n",
        "        \n",
        "    return temp\n",
        "\n",
        "## transition Blosck\n",
        "def transition(input, num_filter = 12):\n",
        "    global compression\n",
        "    BatchNorm = layers.BatchNormalization()(input)\n",
        "    relu = layers.Activation('relu')(BatchNorm)\n",
        "    Conv2D_BottleNeck = layers.Conv2D(int(num_filter*compression), (1,1), use_bias=False ,padding='same')(relu)\n",
        "    avg = layers.AveragePooling2D(pool_size=(2,2))(Conv2D_BottleNeck)\n",
        "    return avg\n",
        "\n",
        "#output layer\n",
        "def output_layer(input):\n",
        "    global compression\n",
        "    BatchNorm = layers.BatchNormalization()(input)\n",
        "    relu = layers.Activation('relu')(BatchNorm)\n",
        "    AvgPooling = layers.AveragePooling2D(pool_size=(2,2))(relu)\n",
        "    Out_conv = layers.Conv2D(filters=num_classes,kernel_size = 2,strides = 1, use_bias=False ,padding='valid',\n",
        "              activation='softmax',name='Out_conv')(AvgPooling)\n",
        "\n",
        "    output = layers.Flatten()(Out_conv)\n",
        "    return output"
      ],
      "execution_count": null,
      "outputs": []
    },
    {
      "cell_type": "code",
      "metadata": {
        "colab_type": "code",
        "id": "anPCpQWhhGb7",
        "colab": {}
      },
      "source": [
        "input = layers.Input(shape=(img_height, img_width, channel,))\n",
        "First_Conv2D = layers.Conv2D(num_filter, (3,3), use_bias=False ,padding='same')(input)\n",
        "\n",
        "Block_1 = denseblock(First_Conv2D, num_filter)\n",
        "Transition_1 = transition(Block_1, num_filter)\n",
        "\n",
        "Block_2 = denseblock(Transition_1, num_filter)\n",
        "Transition_2 = transition(Block_2, num_filter)\n",
        "\n",
        "Block_3 = denseblock(Transition_2, num_filter)\n",
        "Transition_3 = transition(Block_3, num_filter)\n",
        "\n",
        "Last_Block = denseblock(Transition_3,  num_filter)\n",
        "output = output_layer(Last_Block)"
      ],
      "execution_count": null,
      "outputs": []
    },
    {
      "cell_type": "code",
      "metadata": {
        "colab_type": "code",
        "id": "1kFh7pdxhNtT",
        "scrolled": false,
        "colab": {
          "base_uri": "https://localhost:8080/",
          "height": 1000
        },
        "outputId": "5209f657-b0c3-46fb-8979-3c9f6c5728de"
      },
      "source": [
        "model = Model(inputs=[input], outputs=[output])\n",
        "model.summary()"
      ],
      "execution_count": null,
      "outputs": [
        {
          "output_type": "stream",
          "text": [
            "Model: \"model\"\n",
            "__________________________________________________________________________________________________\n",
            "Layer (type)                    Output Shape         Param #     Connected to                     \n",
            "==================================================================================================\n",
            "input_1 (InputLayer)            [(None, 32, 32, 3)]  0                                            \n",
            "__________________________________________________________________________________________________\n",
            "conv2d (Conv2D)                 (None, 32, 32, 35)   945         input_1[0][0]                    \n",
            "__________________________________________________________________________________________________\n",
            "batch_normalization (BatchNorma (None, 32, 32, 35)   140         conv2d[0][0]                     \n",
            "__________________________________________________________________________________________________\n",
            "activation (Activation)         (None, 32, 32, 35)   0           batch_normalization[0][0]        \n",
            "__________________________________________________________________________________________________\n",
            "conv2d_1 (Conv2D)               (None, 32, 32, 35)   11025       activation[0][0]                 \n",
            "__________________________________________________________________________________________________\n",
            "concatenate (Concatenate)       (None, 32, 32, 70)   0           conv2d[0][0]                     \n",
            "                                                                 conv2d_1[0][0]                   \n",
            "__________________________________________________________________________________________________\n",
            "batch_normalization_1 (BatchNor (None, 32, 32, 70)   280         concatenate[0][0]                \n",
            "__________________________________________________________________________________________________\n",
            "activation_1 (Activation)       (None, 32, 32, 70)   0           batch_normalization_1[0][0]      \n",
            "__________________________________________________________________________________________________\n",
            "conv2d_2 (Conv2D)               (None, 32, 32, 35)   22050       activation_1[0][0]               \n",
            "__________________________________________________________________________________________________\n",
            "concatenate_1 (Concatenate)     (None, 32, 32, 105)  0           concatenate[0][0]                \n",
            "                                                                 conv2d_2[0][0]                   \n",
            "__________________________________________________________________________________________________\n",
            "batch_normalization_2 (BatchNor (None, 32, 32, 105)  420         concatenate_1[0][0]              \n",
            "__________________________________________________________________________________________________\n",
            "activation_2 (Activation)       (None, 32, 32, 105)  0           batch_normalization_2[0][0]      \n",
            "__________________________________________________________________________________________________\n",
            "conv2d_3 (Conv2D)               (None, 32, 32, 35)   33075       activation_2[0][0]               \n",
            "__________________________________________________________________________________________________\n",
            "concatenate_2 (Concatenate)     (None, 32, 32, 140)  0           concatenate_1[0][0]              \n",
            "                                                                 conv2d_3[0][0]                   \n",
            "__________________________________________________________________________________________________\n",
            "batch_normalization_3 (BatchNor (None, 32, 32, 140)  560         concatenate_2[0][0]              \n",
            "__________________________________________________________________________________________________\n",
            "activation_3 (Activation)       (None, 32, 32, 140)  0           batch_normalization_3[0][0]      \n",
            "__________________________________________________________________________________________________\n",
            "conv2d_4 (Conv2D)               (None, 32, 32, 35)   44100       activation_3[0][0]               \n",
            "__________________________________________________________________________________________________\n",
            "concatenate_3 (Concatenate)     (None, 32, 32, 175)  0           concatenate_2[0][0]              \n",
            "                                                                 conv2d_4[0][0]                   \n",
            "__________________________________________________________________________________________________\n",
            "batch_normalization_4 (BatchNor (None, 32, 32, 175)  700         concatenate_3[0][0]              \n",
            "__________________________________________________________________________________________________\n",
            "activation_4 (Activation)       (None, 32, 32, 175)  0           batch_normalization_4[0][0]      \n",
            "__________________________________________________________________________________________________\n",
            "conv2d_5 (Conv2D)               (None, 32, 32, 35)   55125       activation_4[0][0]               \n",
            "__________________________________________________________________________________________________\n",
            "concatenate_4 (Concatenate)     (None, 32, 32, 210)  0           concatenate_3[0][0]              \n",
            "                                                                 conv2d_5[0][0]                   \n",
            "__________________________________________________________________________________________________\n",
            "batch_normalization_5 (BatchNor (None, 32, 32, 210)  840         concatenate_4[0][0]              \n",
            "__________________________________________________________________________________________________\n",
            "activation_5 (Activation)       (None, 32, 32, 210)  0           batch_normalization_5[0][0]      \n",
            "__________________________________________________________________________________________________\n",
            "conv2d_6 (Conv2D)               (None, 32, 32, 35)   66150       activation_5[0][0]               \n",
            "__________________________________________________________________________________________________\n",
            "concatenate_5 (Concatenate)     (None, 32, 32, 245)  0           concatenate_4[0][0]              \n",
            "                                                                 conv2d_6[0][0]                   \n",
            "__________________________________________________________________________________________________\n",
            "batch_normalization_6 (BatchNor (None, 32, 32, 245)  980         concatenate_5[0][0]              \n",
            "__________________________________________________________________________________________________\n",
            "activation_6 (Activation)       (None, 32, 32, 245)  0           batch_normalization_6[0][0]      \n",
            "__________________________________________________________________________________________________\n",
            "conv2d_7 (Conv2D)               (None, 32, 32, 35)   8575        activation_6[0][0]               \n",
            "__________________________________________________________________________________________________\n",
            "average_pooling2d (AveragePooli (None, 16, 16, 35)   0           conv2d_7[0][0]                   \n",
            "__________________________________________________________________________________________________\n",
            "batch_normalization_7 (BatchNor (None, 16, 16, 35)   140         average_pooling2d[0][0]          \n",
            "__________________________________________________________________________________________________\n",
            "activation_7 (Activation)       (None, 16, 16, 35)   0           batch_normalization_7[0][0]      \n",
            "__________________________________________________________________________________________________\n",
            "conv2d_8 (Conv2D)               (None, 16, 16, 35)   11025       activation_7[0][0]               \n",
            "__________________________________________________________________________________________________\n",
            "concatenate_6 (Concatenate)     (None, 16, 16, 70)   0           average_pooling2d[0][0]          \n",
            "                                                                 conv2d_8[0][0]                   \n",
            "__________________________________________________________________________________________________\n",
            "batch_normalization_8 (BatchNor (None, 16, 16, 70)   280         concatenate_6[0][0]              \n",
            "__________________________________________________________________________________________________\n",
            "activation_8 (Activation)       (None, 16, 16, 70)   0           batch_normalization_8[0][0]      \n",
            "__________________________________________________________________________________________________\n",
            "conv2d_9 (Conv2D)               (None, 16, 16, 35)   22050       activation_8[0][0]               \n",
            "__________________________________________________________________________________________________\n",
            "concatenate_7 (Concatenate)     (None, 16, 16, 105)  0           concatenate_6[0][0]              \n",
            "                                                                 conv2d_9[0][0]                   \n",
            "__________________________________________________________________________________________________\n",
            "batch_normalization_9 (BatchNor (None, 16, 16, 105)  420         concatenate_7[0][0]              \n",
            "__________________________________________________________________________________________________\n",
            "activation_9 (Activation)       (None, 16, 16, 105)  0           batch_normalization_9[0][0]      \n",
            "__________________________________________________________________________________________________\n",
            "conv2d_10 (Conv2D)              (None, 16, 16, 35)   33075       activation_9[0][0]               \n",
            "__________________________________________________________________________________________________\n",
            "concatenate_8 (Concatenate)     (None, 16, 16, 140)  0           concatenate_7[0][0]              \n",
            "                                                                 conv2d_10[0][0]                  \n",
            "__________________________________________________________________________________________________\n",
            "batch_normalization_10 (BatchNo (None, 16, 16, 140)  560         concatenate_8[0][0]              \n",
            "__________________________________________________________________________________________________\n",
            "activation_10 (Activation)      (None, 16, 16, 140)  0           batch_normalization_10[0][0]     \n",
            "__________________________________________________________________________________________________\n",
            "conv2d_11 (Conv2D)              (None, 16, 16, 35)   44100       activation_10[0][0]              \n",
            "__________________________________________________________________________________________________\n",
            "concatenate_9 (Concatenate)     (None, 16, 16, 175)  0           concatenate_8[0][0]              \n",
            "                                                                 conv2d_11[0][0]                  \n",
            "__________________________________________________________________________________________________\n",
            "batch_normalization_11 (BatchNo (None, 16, 16, 175)  700         concatenate_9[0][0]              \n",
            "__________________________________________________________________________________________________\n",
            "activation_11 (Activation)      (None, 16, 16, 175)  0           batch_normalization_11[0][0]     \n",
            "__________________________________________________________________________________________________\n",
            "conv2d_12 (Conv2D)              (None, 16, 16, 35)   55125       activation_11[0][0]              \n",
            "__________________________________________________________________________________________________\n",
            "concatenate_10 (Concatenate)    (None, 16, 16, 210)  0           concatenate_9[0][0]              \n",
            "                                                                 conv2d_12[0][0]                  \n",
            "__________________________________________________________________________________________________\n",
            "batch_normalization_12 (BatchNo (None, 16, 16, 210)  840         concatenate_10[0][0]             \n",
            "__________________________________________________________________________________________________\n",
            "activation_12 (Activation)      (None, 16, 16, 210)  0           batch_normalization_12[0][0]     \n",
            "__________________________________________________________________________________________________\n",
            "conv2d_13 (Conv2D)              (None, 16, 16, 35)   66150       activation_12[0][0]              \n",
            "__________________________________________________________________________________________________\n",
            "concatenate_11 (Concatenate)    (None, 16, 16, 245)  0           concatenate_10[0][0]             \n",
            "                                                                 conv2d_13[0][0]                  \n",
            "__________________________________________________________________________________________________\n",
            "batch_normalization_13 (BatchNo (None, 16, 16, 245)  980         concatenate_11[0][0]             \n",
            "__________________________________________________________________________________________________\n",
            "activation_13 (Activation)      (None, 16, 16, 245)  0           batch_normalization_13[0][0]     \n",
            "__________________________________________________________________________________________________\n",
            "conv2d_14 (Conv2D)              (None, 16, 16, 35)   8575        activation_13[0][0]              \n",
            "__________________________________________________________________________________________________\n",
            "average_pooling2d_1 (AveragePoo (None, 8, 8, 35)     0           conv2d_14[0][0]                  \n",
            "__________________________________________________________________________________________________\n",
            "batch_normalization_14 (BatchNo (None, 8, 8, 35)     140         average_pooling2d_1[0][0]        \n",
            "__________________________________________________________________________________________________\n",
            "activation_14 (Activation)      (None, 8, 8, 35)     0           batch_normalization_14[0][0]     \n",
            "__________________________________________________________________________________________________\n",
            "conv2d_15 (Conv2D)              (None, 8, 8, 35)     11025       activation_14[0][0]              \n",
            "__________________________________________________________________________________________________\n",
            "concatenate_12 (Concatenate)    (None, 8, 8, 70)     0           average_pooling2d_1[0][0]        \n",
            "                                                                 conv2d_15[0][0]                  \n",
            "__________________________________________________________________________________________________\n",
            "batch_normalization_15 (BatchNo (None, 8, 8, 70)     280         concatenate_12[0][0]             \n",
            "__________________________________________________________________________________________________\n",
            "activation_15 (Activation)      (None, 8, 8, 70)     0           batch_normalization_15[0][0]     \n",
            "__________________________________________________________________________________________________\n",
            "conv2d_16 (Conv2D)              (None, 8, 8, 35)     22050       activation_15[0][0]              \n",
            "__________________________________________________________________________________________________\n",
            "concatenate_13 (Concatenate)    (None, 8, 8, 105)    0           concatenate_12[0][0]             \n",
            "                                                                 conv2d_16[0][0]                  \n",
            "__________________________________________________________________________________________________\n",
            "batch_normalization_16 (BatchNo (None, 8, 8, 105)    420         concatenate_13[0][0]             \n",
            "__________________________________________________________________________________________________\n",
            "activation_16 (Activation)      (None, 8, 8, 105)    0           batch_normalization_16[0][0]     \n",
            "__________________________________________________________________________________________________\n",
            "conv2d_17 (Conv2D)              (None, 8, 8, 35)     33075       activation_16[0][0]              \n",
            "__________________________________________________________________________________________________\n",
            "concatenate_14 (Concatenate)    (None, 8, 8, 140)    0           concatenate_13[0][0]             \n",
            "                                                                 conv2d_17[0][0]                  \n",
            "__________________________________________________________________________________________________\n",
            "batch_normalization_17 (BatchNo (None, 8, 8, 140)    560         concatenate_14[0][0]             \n",
            "__________________________________________________________________________________________________\n",
            "activation_17 (Activation)      (None, 8, 8, 140)    0           batch_normalization_17[0][0]     \n",
            "__________________________________________________________________________________________________\n",
            "conv2d_18 (Conv2D)              (None, 8, 8, 35)     44100       activation_17[0][0]              \n",
            "__________________________________________________________________________________________________\n",
            "concatenate_15 (Concatenate)    (None, 8, 8, 175)    0           concatenate_14[0][0]             \n",
            "                                                                 conv2d_18[0][0]                  \n",
            "__________________________________________________________________________________________________\n",
            "batch_normalization_18 (BatchNo (None, 8, 8, 175)    700         concatenate_15[0][0]             \n",
            "__________________________________________________________________________________________________\n",
            "activation_18 (Activation)      (None, 8, 8, 175)    0           batch_normalization_18[0][0]     \n",
            "__________________________________________________________________________________________________\n",
            "conv2d_19 (Conv2D)              (None, 8, 8, 35)     55125       activation_18[0][0]              \n",
            "__________________________________________________________________________________________________\n",
            "concatenate_16 (Concatenate)    (None, 8, 8, 210)    0           concatenate_15[0][0]             \n",
            "                                                                 conv2d_19[0][0]                  \n",
            "__________________________________________________________________________________________________\n",
            "batch_normalization_19 (BatchNo (None, 8, 8, 210)    840         concatenate_16[0][0]             \n",
            "__________________________________________________________________________________________________\n",
            "activation_19 (Activation)      (None, 8, 8, 210)    0           batch_normalization_19[0][0]     \n",
            "__________________________________________________________________________________________________\n",
            "conv2d_20 (Conv2D)              (None, 8, 8, 35)     66150       activation_19[0][0]              \n",
            "__________________________________________________________________________________________________\n",
            "concatenate_17 (Concatenate)    (None, 8, 8, 245)    0           concatenate_16[0][0]             \n",
            "                                                                 conv2d_20[0][0]                  \n",
            "__________________________________________________________________________________________________\n",
            "batch_normalization_20 (BatchNo (None, 8, 8, 245)    980         concatenate_17[0][0]             \n",
            "__________________________________________________________________________________________________\n",
            "activation_20 (Activation)      (None, 8, 8, 245)    0           batch_normalization_20[0][0]     \n",
            "__________________________________________________________________________________________________\n",
            "conv2d_21 (Conv2D)              (None, 8, 8, 35)     8575        activation_20[0][0]              \n",
            "__________________________________________________________________________________________________\n",
            "average_pooling2d_2 (AveragePoo (None, 4, 4, 35)     0           conv2d_21[0][0]                  \n",
            "__________________________________________________________________________________________________\n",
            "batch_normalization_21 (BatchNo (None, 4, 4, 35)     140         average_pooling2d_2[0][0]        \n",
            "__________________________________________________________________________________________________\n",
            "activation_21 (Activation)      (None, 4, 4, 35)     0           batch_normalization_21[0][0]     \n",
            "__________________________________________________________________________________________________\n",
            "conv2d_22 (Conv2D)              (None, 4, 4, 35)     11025       activation_21[0][0]              \n",
            "__________________________________________________________________________________________________\n",
            "concatenate_18 (Concatenate)    (None, 4, 4, 70)     0           average_pooling2d_2[0][0]        \n",
            "                                                                 conv2d_22[0][0]                  \n",
            "__________________________________________________________________________________________________\n",
            "batch_normalization_22 (BatchNo (None, 4, 4, 70)     280         concatenate_18[0][0]             \n",
            "__________________________________________________________________________________________________\n",
            "activation_22 (Activation)      (None, 4, 4, 70)     0           batch_normalization_22[0][0]     \n",
            "__________________________________________________________________________________________________\n",
            "conv2d_23 (Conv2D)              (None, 4, 4, 35)     22050       activation_22[0][0]              \n",
            "__________________________________________________________________________________________________\n",
            "concatenate_19 (Concatenate)    (None, 4, 4, 105)    0           concatenate_18[0][0]             \n",
            "                                                                 conv2d_23[0][0]                  \n",
            "__________________________________________________________________________________________________\n",
            "batch_normalization_23 (BatchNo (None, 4, 4, 105)    420         concatenate_19[0][0]             \n",
            "__________________________________________________________________________________________________\n",
            "activation_23 (Activation)      (None, 4, 4, 105)    0           batch_normalization_23[0][0]     \n",
            "__________________________________________________________________________________________________\n",
            "conv2d_24 (Conv2D)              (None, 4, 4, 35)     33075       activation_23[0][0]              \n",
            "__________________________________________________________________________________________________\n",
            "concatenate_20 (Concatenate)    (None, 4, 4, 140)    0           concatenate_19[0][0]             \n",
            "                                                                 conv2d_24[0][0]                  \n",
            "__________________________________________________________________________________________________\n",
            "batch_normalization_24 (BatchNo (None, 4, 4, 140)    560         concatenate_20[0][0]             \n",
            "__________________________________________________________________________________________________\n",
            "activation_24 (Activation)      (None, 4, 4, 140)    0           batch_normalization_24[0][0]     \n",
            "__________________________________________________________________________________________________\n",
            "conv2d_25 (Conv2D)              (None, 4, 4, 35)     44100       activation_24[0][0]              \n",
            "__________________________________________________________________________________________________\n",
            "concatenate_21 (Concatenate)    (None, 4, 4, 175)    0           concatenate_20[0][0]             \n",
            "                                                                 conv2d_25[0][0]                  \n",
            "__________________________________________________________________________________________________\n",
            "batch_normalization_25 (BatchNo (None, 4, 4, 175)    700         concatenate_21[0][0]             \n",
            "__________________________________________________________________________________________________\n",
            "activation_25 (Activation)      (None, 4, 4, 175)    0           batch_normalization_25[0][0]     \n",
            "__________________________________________________________________________________________________\n",
            "conv2d_26 (Conv2D)              (None, 4, 4, 35)     55125       activation_25[0][0]              \n",
            "__________________________________________________________________________________________________\n",
            "concatenate_22 (Concatenate)    (None, 4, 4, 210)    0           concatenate_21[0][0]             \n",
            "                                                                 conv2d_26[0][0]                  \n",
            "__________________________________________________________________________________________________\n",
            "batch_normalization_26 (BatchNo (None, 4, 4, 210)    840         concatenate_22[0][0]             \n",
            "__________________________________________________________________________________________________\n",
            "activation_26 (Activation)      (None, 4, 4, 210)    0           batch_normalization_26[0][0]     \n",
            "__________________________________________________________________________________________________\n",
            "conv2d_27 (Conv2D)              (None, 4, 4, 35)     66150       activation_26[0][0]              \n",
            "__________________________________________________________________________________________________\n",
            "concatenate_23 (Concatenate)    (None, 4, 4, 245)    0           concatenate_22[0][0]             \n",
            "                                                                 conv2d_27[0][0]                  \n",
            "__________________________________________________________________________________________________\n",
            "batch_normalization_27 (BatchNo (None, 4, 4, 245)    980         concatenate_23[0][0]             \n",
            "__________________________________________________________________________________________________\n",
            "activation_27 (Activation)      (None, 4, 4, 245)    0           batch_normalization_27[0][0]     \n",
            "__________________________________________________________________________________________________\n",
            "average_pooling2d_3 (AveragePoo (None, 2, 2, 245)    0           activation_27[0][0]              \n",
            "__________________________________________________________________________________________________\n",
            "Out_conv (Conv2D)               (None, 1, 1, 10)     9800        average_pooling2d_3[0][0]        \n",
            "__________________________________________________________________________________________________\n",
            "flatten (Flatten)               (None, 10)           0           Out_conv[0][0]                   \n",
            "==================================================================================================\n",
            "Total params: 978,250\n",
            "Trainable params: 970,410\n",
            "Non-trainable params: 7,840\n",
            "__________________________________________________________________________________________________\n"
          ],
          "name": "stdout"
        }
      ]
    },
    {
      "cell_type": "code",
      "metadata": {
        "colab_type": "code",
        "id": "3mrkic2UA1s5",
        "colab": {}
      },
      "source": [
        "class stop_training_905(tf.keras.callbacks.Callback):\n",
        "    def __init__(self, threshold):\n",
        "        super(stop_training_905, self).__init__()\n",
        "        self.threshold = threshold\n",
        "\n",
        "    def on_epoch_end(self, epoch, logs=None): \n",
        "        val_acc = logs[\"val_accuracy\"]\n",
        "        if val_acc >= self.threshold:\n",
        "            self.model.stop_training = True"
      ],
      "execution_count": null,
      "outputs": []
    },
    {
      "cell_type": "code",
      "metadata": {
        "colab_type": "code",
        "id": "LQtOzu6Vo_Eg",
        "colab": {}
      },
      "source": [
        "def decay_learn(epoch, lr):\n",
        "    if epoch < 50:\n",
        "        return 0.001\n",
        "    elif epoch >= 50 and epoch < 75:\n",
        "        return 0.0001\n",
        "    else:\n",
        "        return 0.00001\n",
        "\n",
        "lr_scheduler = tf.keras.callbacks.LearningRateScheduler(decay_learn)"
      ],
      "execution_count": null,
      "outputs": []
    },
    {
      "cell_type": "code",
      "metadata": {
        "colab_type": "code",
        "id": "yilAJwRhA1s8",
        "colab": {}
      },
      "source": [
        "checkpoint = ModelCheckpoint(\"recent_model.hdf5\", monitor='loss', verbose=1,\n",
        "    save_weights_only=False, mode='auto', save_freq='epoch')"
      ],
      "execution_count": null,
      "outputs": []
    },
    {
      "cell_type": "code",
      "metadata": {
        "colab_type": "code",
        "id": "OdDHMvfIA1s-",
        "colab": {}
      },
      "source": [
        "training_till_905 = stop_training_905(threshold=0.905)"
      ],
      "execution_count": null,
      "outputs": []
    },
    {
      "cell_type": "code",
      "metadata": {
        "colab_type": "code",
        "id": "b4XOsW3ahSkL",
        "colab": {}
      },
      "source": [
        "# determine Loss function and Optimizer\n",
        "model.compile(loss='categorical_crossentropy',\n",
        "              optimizer=Adam(), metrics=['accuracy'])"
      ],
      "execution_count": null,
      "outputs": []
    },
    {
      "cell_type": "code",
      "metadata": {
        "colab_type": "code",
        "id": "EUKcQN2TA1tD",
        "colab": {
          "base_uri": "https://localhost:8080/",
          "height": 1000
        },
        "outputId": "aec07903-de0d-42a0-cd2d-635b4423f389"
      },
      "source": [
        "datagen.fit(X_train)\n",
        "history_1 = model.fit(datagen.flow(X_train, y_train, batch_size=batch_size),epochs=epochs,\n",
        "                       verbose=1, validation_data=(X_test, y_test),\n",
        "                       callbacks=[training_till_905,checkpoint,lr_scheduler])"
      ],
      "execution_count": null,
      "outputs": [
        {
          "output_type": "stream",
          "text": [
            "Epoch 1/300\n",
            "782/782 [==============================] - ETA: 0s - loss: 1.4719 - accuracy: 0.4652\n",
            "Epoch 00001: saving model to recent_model.hdf5\n",
            "782/782 [==============================] - 53s 68ms/step - loss: 1.4719 - accuracy: 0.4652 - val_loss: 2.2943 - val_accuracy: 0.3995 - lr: 0.0010\n",
            "Epoch 2/300\n",
            "782/782 [==============================] - ETA: 0s - loss: 1.0381 - accuracy: 0.6305\n",
            "Epoch 00002: saving model to recent_model.hdf5\n",
            "782/782 [==============================] - 52s 66ms/step - loss: 1.0381 - accuracy: 0.6305 - val_loss: 1.0546 - val_accuracy: 0.6484 - lr: 0.0010\n",
            "Epoch 3/300\n",
            "782/782 [==============================] - ETA: 0s - loss: 0.8604 - accuracy: 0.6969\n",
            "Epoch 00003: saving model to recent_model.hdf5\n",
            "782/782 [==============================] - 51s 66ms/step - loss: 0.8604 - accuracy: 0.6969 - val_loss: 1.4157 - val_accuracy: 0.5941 - lr: 0.0010\n",
            "Epoch 4/300\n",
            "782/782 [==============================] - ETA: 0s - loss: 0.7483 - accuracy: 0.7365\n",
            "Epoch 00004: saving model to recent_model.hdf5\n",
            "782/782 [==============================] - 51s 65ms/step - loss: 0.7483 - accuracy: 0.7365 - val_loss: 0.9285 - val_accuracy: 0.6978 - lr: 0.0010\n",
            "Epoch 5/300\n",
            "782/782 [==============================] - ETA: 0s - loss: 0.6718 - accuracy: 0.7633\n",
            "Epoch 00005: saving model to recent_model.hdf5\n",
            "782/782 [==============================] - 51s 65ms/step - loss: 0.6718 - accuracy: 0.7633 - val_loss: 0.8488 - val_accuracy: 0.7411 - lr: 0.0010\n",
            "Epoch 6/300\n",
            "782/782 [==============================] - ETA: 0s - loss: 0.6168 - accuracy: 0.7854\n",
            "Epoch 00006: saving model to recent_model.hdf5\n",
            "782/782 [==============================] - 50s 64ms/step - loss: 0.6168 - accuracy: 0.7854 - val_loss: 0.6646 - val_accuracy: 0.7802 - lr: 0.0010\n",
            "Epoch 7/300\n",
            "782/782 [==============================] - ETA: 0s - loss: 0.5775 - accuracy: 0.7983\n",
            "Epoch 00007: saving model to recent_model.hdf5\n",
            "782/782 [==============================] - 50s 64ms/step - loss: 0.5775 - accuracy: 0.7983 - val_loss: 0.8401 - val_accuracy: 0.7332 - lr: 0.0010\n",
            "Epoch 8/300\n",
            "782/782 [==============================] - ETA: 0s - loss: 0.5338 - accuracy: 0.8135\n",
            "Epoch 00008: saving model to recent_model.hdf5\n",
            "782/782 [==============================] - 50s 64ms/step - loss: 0.5338 - accuracy: 0.8135 - val_loss: 0.5423 - val_accuracy: 0.8159 - lr: 0.0010\n",
            "Epoch 9/300\n",
            "782/782 [==============================] - ETA: 0s - loss: 0.4990 - accuracy: 0.8278\n",
            "Epoch 00009: saving model to recent_model.hdf5\n",
            "782/782 [==============================] - 50s 64ms/step - loss: 0.4990 - accuracy: 0.8278 - val_loss: 0.6217 - val_accuracy: 0.7916 - lr: 0.0010\n",
            "Epoch 10/300\n",
            "782/782 [==============================] - ETA: 0s - loss: 0.4814 - accuracy: 0.8328\n",
            "Epoch 00010: saving model to recent_model.hdf5\n",
            "782/782 [==============================] - 50s 64ms/step - loss: 0.4814 - accuracy: 0.8328 - val_loss: 0.7589 - val_accuracy: 0.7672 - lr: 0.0010\n",
            "Epoch 11/300\n",
            "782/782 [==============================] - ETA: 0s - loss: 0.4517 - accuracy: 0.8422\n",
            "Epoch 00011: saving model to recent_model.hdf5\n",
            "782/782 [==============================] - 50s 64ms/step - loss: 0.4517 - accuracy: 0.8422 - val_loss: 0.6846 - val_accuracy: 0.7852 - lr: 0.0010\n",
            "Epoch 12/300\n",
            "782/782 [==============================] - ETA: 0s - loss: 0.4304 - accuracy: 0.8516\n",
            "Epoch 00012: saving model to recent_model.hdf5\n",
            "782/782 [==============================] - 49s 63ms/step - loss: 0.4304 - accuracy: 0.8516 - val_loss: 0.4721 - val_accuracy: 0.8449 - lr: 0.0010\n",
            "Epoch 13/300\n",
            "782/782 [==============================] - ETA: 0s - loss: 0.4080 - accuracy: 0.8593\n",
            "Epoch 00013: saving model to recent_model.hdf5\n",
            "782/782 [==============================] - 49s 63ms/step - loss: 0.4080 - accuracy: 0.8593 - val_loss: 0.5024 - val_accuracy: 0.8353 - lr: 0.0010\n",
            "Epoch 14/300\n",
            "782/782 [==============================] - ETA: 0s - loss: 0.3946 - accuracy: 0.8633\n",
            "Epoch 00014: saving model to recent_model.hdf5\n",
            "782/782 [==============================] - 49s 63ms/step - loss: 0.3946 - accuracy: 0.8633 - val_loss: 0.4779 - val_accuracy: 0.8426 - lr: 0.0010\n",
            "Epoch 15/300\n",
            "782/782 [==============================] - ETA: 0s - loss: 0.3779 - accuracy: 0.8678\n",
            "Epoch 00015: saving model to recent_model.hdf5\n",
            "782/782 [==============================] - 50s 64ms/step - loss: 0.3779 - accuracy: 0.8678 - val_loss: 0.6996 - val_accuracy: 0.7843 - lr: 0.0010\n",
            "Epoch 16/300\n",
            "782/782 [==============================] - ETA: 0s - loss: 0.3642 - accuracy: 0.8718\n",
            "Epoch 00016: saving model to recent_model.hdf5\n",
            "782/782 [==============================] - 50s 63ms/step - loss: 0.3642 - accuracy: 0.8718 - val_loss: 0.6813 - val_accuracy: 0.8001 - lr: 0.0010\n",
            "Epoch 17/300\n",
            "782/782 [==============================] - ETA: 0s - loss: 0.3508 - accuracy: 0.8779\n",
            "Epoch 00017: saving model to recent_model.hdf5\n",
            "782/782 [==============================] - 49s 63ms/step - loss: 0.3508 - accuracy: 0.8779 - val_loss: 0.4873 - val_accuracy: 0.8415 - lr: 0.0010\n",
            "Epoch 18/300\n",
            "782/782 [==============================] - ETA: 0s - loss: 0.3377 - accuracy: 0.8817\n",
            "Epoch 00018: saving model to recent_model.hdf5\n",
            "782/782 [==============================] - 49s 63ms/step - loss: 0.3377 - accuracy: 0.8817 - val_loss: 0.5024 - val_accuracy: 0.8377 - lr: 0.0010\n",
            "Epoch 19/300\n",
            "782/782 [==============================] - ETA: 0s - loss: 0.3239 - accuracy: 0.8861\n",
            "Epoch 00019: saving model to recent_model.hdf5\n",
            "782/782 [==============================] - 49s 63ms/step - loss: 0.3239 - accuracy: 0.8861 - val_loss: 0.4824 - val_accuracy: 0.8475 - lr: 0.0010\n",
            "Epoch 20/300\n",
            "782/782 [==============================] - ETA: 0s - loss: 0.3190 - accuracy: 0.8876\n",
            "Epoch 00020: saving model to recent_model.hdf5\n",
            "782/782 [==============================] - 49s 63ms/step - loss: 0.3190 - accuracy: 0.8876 - val_loss: 0.3806 - val_accuracy: 0.8789 - lr: 0.0010\n",
            "Epoch 21/300\n",
            "782/782 [==============================] - ETA: 0s - loss: 0.3040 - accuracy: 0.8938\n",
            "Epoch 00021: saving model to recent_model.hdf5\n",
            "782/782 [==============================] - 49s 63ms/step - loss: 0.3040 - accuracy: 0.8938 - val_loss: 0.4583 - val_accuracy: 0.8543 - lr: 0.0010\n",
            "Epoch 22/300\n",
            "782/782 [==============================] - ETA: 0s - loss: 0.2985 - accuracy: 0.8960\n",
            "Epoch 00022: saving model to recent_model.hdf5\n",
            "782/782 [==============================] - 49s 63ms/step - loss: 0.2985 - accuracy: 0.8960 - val_loss: 0.4611 - val_accuracy: 0.8525 - lr: 0.0010\n",
            "Epoch 23/300\n",
            "782/782 [==============================] - ETA: 0s - loss: 0.2833 - accuracy: 0.9009\n",
            "Epoch 00023: saving model to recent_model.hdf5\n",
            "782/782 [==============================] - 49s 62ms/step - loss: 0.2833 - accuracy: 0.9009 - val_loss: 0.4736 - val_accuracy: 0.8572 - lr: 0.0010\n",
            "Epoch 24/300\n",
            "782/782 [==============================] - ETA: 0s - loss: 0.2778 - accuracy: 0.9035\n",
            "Epoch 00024: saving model to recent_model.hdf5\n",
            "782/782 [==============================] - 49s 62ms/step - loss: 0.2778 - accuracy: 0.9035 - val_loss: 0.3801 - val_accuracy: 0.8768 - lr: 0.0010\n",
            "Epoch 25/300\n",
            "782/782 [==============================] - ETA: 0s - loss: 0.2685 - accuracy: 0.9059\n",
            "Epoch 00025: saving model to recent_model.hdf5\n",
            "782/782 [==============================] - 49s 62ms/step - loss: 0.2685 - accuracy: 0.9059 - val_loss: 0.5388 - val_accuracy: 0.8474 - lr: 0.0010\n",
            "Epoch 26/300\n",
            "782/782 [==============================] - ETA: 0s - loss: 0.2638 - accuracy: 0.9075\n",
            "Epoch 00026: saving model to recent_model.hdf5\n",
            "782/782 [==============================] - 49s 62ms/step - loss: 0.2638 - accuracy: 0.9075 - val_loss: 0.4475 - val_accuracy: 0.8695 - lr: 0.0010\n",
            "Epoch 27/300\n",
            "782/782 [==============================] - ETA: 0s - loss: 0.2579 - accuracy: 0.9097\n",
            "Epoch 00027: saving model to recent_model.hdf5\n",
            "782/782 [==============================] - 49s 63ms/step - loss: 0.2579 - accuracy: 0.9097 - val_loss: 0.3818 - val_accuracy: 0.8743 - lr: 0.0010\n",
            "Epoch 28/300\n",
            "782/782 [==============================] - ETA: 0s - loss: 0.2513 - accuracy: 0.9128\n",
            "Epoch 00028: saving model to recent_model.hdf5\n",
            "782/782 [==============================] - 49s 63ms/step - loss: 0.2513 - accuracy: 0.9128 - val_loss: 0.3862 - val_accuracy: 0.8742 - lr: 0.0010\n",
            "Epoch 29/300\n",
            "782/782 [==============================] - ETA: 0s - loss: 0.2427 - accuracy: 0.9137\n",
            "Epoch 00029: saving model to recent_model.hdf5\n",
            "782/782 [==============================] - 49s 63ms/step - loss: 0.2427 - accuracy: 0.9137 - val_loss: 0.3886 - val_accuracy: 0.8793 - lr: 0.0010\n",
            "Epoch 30/300\n",
            "782/782 [==============================] - ETA: 0s - loss: 0.2333 - accuracy: 0.9193\n",
            "Epoch 00030: saving model to recent_model.hdf5\n",
            "782/782 [==============================] - 49s 63ms/step - loss: 0.2333 - accuracy: 0.9193 - val_loss: 0.3831 - val_accuracy: 0.8780 - lr: 0.0010\n",
            "Epoch 31/300\n",
            "782/782 [==============================] - ETA: 0s - loss: 0.2325 - accuracy: 0.9183\n",
            "Epoch 00031: saving model to recent_model.hdf5\n",
            "782/782 [==============================] - 49s 63ms/step - loss: 0.2325 - accuracy: 0.9183 - val_loss: 0.5885 - val_accuracy: 0.8371 - lr: 0.0010\n",
            "Epoch 32/300\n",
            "782/782 [==============================] - ETA: 0s - loss: 0.2310 - accuracy: 0.9187\n",
            "Epoch 00032: saving model to recent_model.hdf5\n",
            "782/782 [==============================] - 49s 62ms/step - loss: 0.2310 - accuracy: 0.9187 - val_loss: 0.3962 - val_accuracy: 0.8755 - lr: 0.0010\n",
            "Epoch 33/300\n",
            "782/782 [==============================] - ETA: 0s - loss: 0.2207 - accuracy: 0.9217\n",
            "Epoch 00033: saving model to recent_model.hdf5\n",
            "782/782 [==============================] - 49s 62ms/step - loss: 0.2207 - accuracy: 0.9217 - val_loss: 0.3578 - val_accuracy: 0.8886 - lr: 0.0010\n",
            "Epoch 34/300\n",
            "782/782 [==============================] - ETA: 0s - loss: 0.2151 - accuracy: 0.9242\n",
            "Epoch 00034: saving model to recent_model.hdf5\n",
            "782/782 [==============================] - 49s 63ms/step - loss: 0.2151 - accuracy: 0.9242 - val_loss: 0.3892 - val_accuracy: 0.8827 - lr: 0.0010\n",
            "Epoch 35/300\n",
            "782/782 [==============================] - ETA: 0s - loss: 0.2096 - accuracy: 0.9258\n",
            "Epoch 00035: saving model to recent_model.hdf5\n",
            "782/782 [==============================] - 49s 63ms/step - loss: 0.2096 - accuracy: 0.9258 - val_loss: 0.3334 - val_accuracy: 0.8887 - lr: 0.0010\n",
            "Epoch 36/300\n",
            "782/782 [==============================] - ETA: 0s - loss: 0.2117 - accuracy: 0.9260\n",
            "Epoch 00036: saving model to recent_model.hdf5\n",
            "782/782 [==============================] - 50s 64ms/step - loss: 0.2117 - accuracy: 0.9260 - val_loss: 0.3917 - val_accuracy: 0.8808 - lr: 0.0010\n",
            "Epoch 37/300\n",
            "782/782 [==============================] - ETA: 0s - loss: 0.2006 - accuracy: 0.9286\n",
            "Epoch 00037: saving model to recent_model.hdf5\n",
            "782/782 [==============================] - 50s 64ms/step - loss: 0.2006 - accuracy: 0.9286 - val_loss: 0.3939 - val_accuracy: 0.8806 - lr: 0.0010\n",
            "Epoch 38/300\n",
            "782/782 [==============================] - ETA: 0s - loss: 0.1964 - accuracy: 0.9309\n",
            "Epoch 00038: saving model to recent_model.hdf5\n",
            "782/782 [==============================] - 50s 64ms/step - loss: 0.1964 - accuracy: 0.9309 - val_loss: 0.4094 - val_accuracy: 0.8800 - lr: 0.0010\n",
            "Epoch 39/300\n",
            "782/782 [==============================] - ETA: 0s - loss: 0.1919 - accuracy: 0.9326\n",
            "Epoch 00039: saving model to recent_model.hdf5\n",
            "782/782 [==============================] - 50s 64ms/step - loss: 0.1919 - accuracy: 0.9326 - val_loss: 0.4086 - val_accuracy: 0.8806 - lr: 0.0010\n",
            "Epoch 40/300\n",
            "782/782 [==============================] - ETA: 0s - loss: 0.1885 - accuracy: 0.9330\n",
            "Epoch 00040: saving model to recent_model.hdf5\n",
            "782/782 [==============================] - 51s 65ms/step - loss: 0.1885 - accuracy: 0.9330 - val_loss: 0.4239 - val_accuracy: 0.8790 - lr: 0.0010\n",
            "Epoch 41/300\n",
            "782/782 [==============================] - ETA: 0s - loss: 0.1872 - accuracy: 0.9329\n",
            "Epoch 00041: saving model to recent_model.hdf5\n",
            "782/782 [==============================] - 51s 65ms/step - loss: 0.1872 - accuracy: 0.9329 - val_loss: 0.4621 - val_accuracy: 0.8695 - lr: 0.0010\n",
            "Epoch 42/300\n",
            "782/782 [==============================] - ETA: 0s - loss: 0.1791 - accuracy: 0.9363\n",
            "Epoch 00042: saving model to recent_model.hdf5\n",
            "782/782 [==============================] - 51s 65ms/step - loss: 0.1791 - accuracy: 0.9363 - val_loss: 0.3629 - val_accuracy: 0.8933 - lr: 0.0010\n",
            "Epoch 43/300\n",
            "782/782 [==============================] - ETA: 0s - loss: 0.1798 - accuracy: 0.9371\n",
            "Epoch 00043: saving model to recent_model.hdf5\n",
            "782/782 [==============================] - 51s 65ms/step - loss: 0.1798 - accuracy: 0.9371 - val_loss: 0.4425 - val_accuracy: 0.8745 - lr: 0.0010\n",
            "Epoch 44/300\n",
            "782/782 [==============================] - ETA: 0s - loss: 0.1753 - accuracy: 0.9383\n",
            "Epoch 00044: saving model to recent_model.hdf5\n",
            "782/782 [==============================] - 51s 65ms/step - loss: 0.1753 - accuracy: 0.9383 - val_loss: 0.4780 - val_accuracy: 0.8680 - lr: 0.0010\n",
            "Epoch 45/300\n",
            "782/782 [==============================] - ETA: 0s - loss: 0.1686 - accuracy: 0.9396\n",
            "Epoch 00045: saving model to recent_model.hdf5\n",
            "782/782 [==============================] - 51s 66ms/step - loss: 0.1686 - accuracy: 0.9396 - val_loss: 0.4600 - val_accuracy: 0.8698 - lr: 0.0010\n",
            "Epoch 46/300\n",
            "782/782 [==============================] - ETA: 0s - loss: 0.1709 - accuracy: 0.9404\n",
            "Epoch 00046: saving model to recent_model.hdf5\n",
            "782/782 [==============================] - 51s 66ms/step - loss: 0.1709 - accuracy: 0.9404 - val_loss: 0.3606 - val_accuracy: 0.8934 - lr: 0.0010\n",
            "Epoch 47/300\n",
            "782/782 [==============================] - ETA: 0s - loss: 0.1672 - accuracy: 0.9402\n",
            "Epoch 00047: saving model to recent_model.hdf5\n",
            "782/782 [==============================] - 51s 66ms/step - loss: 0.1672 - accuracy: 0.9402 - val_loss: 0.4091 - val_accuracy: 0.8795 - lr: 0.0010\n",
            "Epoch 48/300\n",
            "782/782 [==============================] - ETA: 0s - loss: 0.1660 - accuracy: 0.9415\n",
            "Epoch 00048: saving model to recent_model.hdf5\n",
            "782/782 [==============================] - 51s 66ms/step - loss: 0.1660 - accuracy: 0.9415 - val_loss: 0.3802 - val_accuracy: 0.8876 - lr: 0.0010\n",
            "Epoch 49/300\n",
            "782/782 [==============================] - ETA: 0s - loss: 0.1614 - accuracy: 0.9425\n",
            "Epoch 00049: saving model to recent_model.hdf5\n",
            "782/782 [==============================] - 51s 66ms/step - loss: 0.1614 - accuracy: 0.9425 - val_loss: 0.3417 - val_accuracy: 0.8977 - lr: 0.0010\n",
            "Epoch 50/300\n",
            "782/782 [==============================] - ETA: 0s - loss: 0.1575 - accuracy: 0.9447\n",
            "Epoch 00050: saving model to recent_model.hdf5\n",
            "782/782 [==============================] - 51s 66ms/step - loss: 0.1575 - accuracy: 0.9447 - val_loss: 0.4178 - val_accuracy: 0.8822 - lr: 0.0010\n",
            "Epoch 51/300\n",
            "782/782 [==============================] - ETA: 0s - loss: 0.1173 - accuracy: 0.9589\n",
            "Epoch 00051: saving model to recent_model.hdf5\n",
            "782/782 [==============================] - 51s 65ms/step - loss: 0.1173 - accuracy: 0.9589 - val_loss: 0.2997 - val_accuracy: 0.9080 - lr: 1.0000e-04\n"
          ],
          "name": "stdout"
        }
      ]
    },
    {
      "cell_type": "code",
      "metadata": {
        "colab_type": "code",
        "id": "rRiZIZbCr1g4",
        "colab": {
          "base_uri": "https://localhost:8080/",
          "height": 295
        },
        "outputId": "f35a2edc-d253-446c-a3fe-661b67a43a79"
      },
      "source": [
        "#plotting \n",
        "import matplotlib.pyplot as plt\n",
        "plt.plot(history_1.history['accuracy'])\n",
        "plt.plot(history_1.history['val_accuracy'])\n",
        "plt.title('Model 2 : accuracy')\n",
        "plt.ylabel('accuracy')\n",
        "plt.xlabel('epoch')\n",
        "plt.legend(['train', 'test'], loc='upper left')\n",
        "plt.show()"
      ],
      "execution_count": null,
      "outputs": [
        {
          "output_type": "display_data",
          "data": {
            "image/png": "[encoded data removed]",
            "text/plain": [
              "<Figure size 432x288 with 1 Axes>"
            ]
          },
          "metadata": {
            "tags": [],
            "needs_background": "light"
          }
        }
      ]
    },
    {
      "cell_type": "code",
      "metadata": {
        "colab_type": "code",
        "id": "ZcWydmIVhZGr",
        "colab": {
          "base_uri": "https://localhost:8080/",
          "height": 68
        },
        "outputId": "96bb1444-777f-4896-b6c3-11e7014ee652"
      },
      "source": [
        "# Test the model\n",
        "score = model.evaluate(X_test, y_test, verbose=1)\n",
        "print('Test loss:', score[0])\n",
        "print('Test accuracy:', score[1])"
      ],
      "execution_count": null,
      "outputs": [
        {
          "output_type": "stream",
          "text": [
            "313/313 [==============================] - 3s 9ms/step - loss: 0.2997 - accuracy: 0.9080\n",
            "Test loss: 0.2997393012046814\n",
            "Test accuracy: 0.9079999923706055\n"
          ],
          "name": "stdout"
        }
      ]
    }
  ]
}